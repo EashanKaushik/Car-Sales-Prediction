{
 "cells": [
  {
   "cell_type": "markdown",
   "id": "6cfb8392-66ce-488d-a4f7-d1e8d5695a62",
   "metadata": {},
   "source": [
    "# Car Sales Prediction"
   ]
  },
  {
   "cell_type": "code",
   "execution_count": null,
   "id": "0a3da9c4-0c6a-4095-825a-cdd683e769d4",
   "metadata": {},
   "outputs": [],
   "source": []
  }
 ],
 "metadata": {
  "kernelspec": {
   "display_name": "Python 3",
   "language": "python",
   "name": "python3"
  },
  "language_info": {
   "codemirror_mode": {
    "name": "ipython",
    "version": 3
   },
   "file_extension": ".py",
   "mimetype": "text/x-python",
   "name": "python",
   "nbconvert_exporter": "python",
   "pygments_lexer": "ipython3",
   "version": "3.8.8"
  }
 },
 "nbformat": 4,
 "nbformat_minor": 5
}
